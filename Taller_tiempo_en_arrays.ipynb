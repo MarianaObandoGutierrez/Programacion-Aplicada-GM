{
  "nbformat": 4,
  "nbformat_minor": 0,
  "metadata": {
    "colab": {
      "provenance": [],
      "history_visible": true,
      "include_colab_link": true
    },
    "kernelspec": {
      "name": "python3",
      "display_name": "Python 3"
    },
    "language_info": {
      "name": "python"
    }
  },
  "cells": [
    {
      "cell_type": "markdown",
      "metadata": {
        "id": "view-in-github",
        "colab_type": "text"
      },
      "source": [
        "<a href=\"https://colab.research.google.com/github/MarianaObandoGutierrez/Programacion-Aplicada-GM/blob/main/Taller_tiempo_en_arrays.ipynb\" target=\"_parent\"><img src=\"https://colab.research.google.com/assets/colab-badge.svg\" alt=\"Open In Colab\"/></a>"
      ]
    },
    {
      "cell_type": "code",
      "source": [
        "#Punto 1\n",
        "#Como medir el tiempo en Phyton\n",
        "\n",
        "#Se importa la biblioteca time que toma tiempo real\n",
        "import time\n",
        "\n",
        "# Se escoge una funcion de ejemplo para probarlo\n",
        "def suma_ejemplo():\n",
        "    suma = 0\n",
        "    a=9\n",
        "    b=8\n",
        "    suma = a+b\n",
        "    return suma\n",
        "def Medir_tiempo(funcion):\n",
        "    # Registra el tiempo de inicio\n",
        "    inicio = time.time()\n",
        "\n",
        "    # Llama a la función proporcionada como argumento\n",
        "    resultado = funcion()\n",
        "\n",
        "    # Registra el tiempo de finalización\n",
        "    fin = time.time()\n",
        "\n",
        "    # Calcula la duración en segundos\n",
        "    duracion = fin - inicio\n",
        "\n",
        "    # Imprime la duración y el resultado\n",
        "    print(\"La función tardó\", duracion, \"segundos en ejecutarse.\")\n",
        "    return resultado\n",
        "print(\"Resultado de la función:\", tiempo)\n",
        "tiempo = Medir_tiempo(suma_ejemplo)\n"
      ],
      "metadata": {
        "id": "ycOgn72_Okox",
        "outputId": "94e6efa9-d316-4b83-945a-a2c9b35a7cbb",
        "colab": {
          "base_uri": "https://localhost:8080/"
        }
      },
      "execution_count": 51,
      "outputs": [
        {
          "output_type": "stream",
          "name": "stdout",
          "text": [
            "Resultado de la función: 17\n",
            "La función tardó 9.5367431640625e-07 segundos en ejecutarse.\n"
          ]
        }
      ]
    },
    {
      "cell_type": "code",
      "source": [
        "#Punto 2\n",
        "from array import array\n",
        "\n",
        "matriz = [\n",
        "    [1, 4],\n",
        "    [5, 6],\n",
        "    [3, 9]\n",
        "]\n",
        "\n",
        "def convertir_array_matriz(matriz):\n",
        "    # Obtener el número de columnas (longitud de una fila)\n",
        "    num_columnas = len(matriz[0])\n",
        "\n",
        "    # Crear un array vacío con el tipo \"f\" (float)\n",
        "    array1 = array(\"f\")\n",
        "\n",
        "    # Agregar el número de columnas como un elemento al array\n",
        "    array1.append(float(num_columnas))\n",
        "\n",
        "    # Iterar sobre la matriz y agregar elementos a array1\n",
        "    for fila in matriz:\n",
        "        array1.extend(array(\"f\", fila))\n",
        "\n",
        "    # Retornar el array resultante\n",
        "    return array1\n",
        "resultado = convertir_array_matriz(matriz)\n",
        "print(resultado)"
      ],
      "metadata": {
        "id": "p8eyyb3Afa4-",
        "outputId": "287f65a9-b120-4cd3-cf39-7b62dd9ea086",
        "colab": {
          "base_uri": "https://localhost:8080/"
        }
      },
      "execution_count": 52,
      "outputs": [
        {
          "output_type": "stream",
          "name": "stdout",
          "text": [
            "array('f', [2.0, 1.0, 4.0, 5.0, 6.0, 3.0, 9.0])\n"
          ]
        }
      ]
    },
    {
      "cell_type": "code",
      "source": [
        "def elem (array1,num_columnas):\n",
        "        # Solicitar al usuario el número de fila y columna\n",
        "        f = int(input(\"Por favor, ingresa el número de la fila: \"))\n",
        "        c = int(input(\"Por favor, ingresa el número de la columna: \"))\n",
        "\n",
        "        # Calcular la posición en el array bidimensional\n",
        "        posicion = 1+(f * num_columnas + c)\n",
        "\n",
        "        # Acceder al elemento en la posición calculada\n",
        "        if 0 <= posicion < len(array1):\n",
        "            elemento = array1[posicion]\n",
        "            print(\"El elemento en la posición ({}, {}) es: {}\".format(f, c, elemento))\n",
        "        else:\n",
        "            print(\"La posición ({}, {}) está fuera de rango.\".format(f, c))\n",
        "\n",
        "\n",
        "elem(array1, num_columnas)\n",
        "tiempo = Medir_tiempo(suma_ejemplo)"
      ],
      "metadata": {
        "id": "J0qiPSmrflCV",
        "outputId": "a00eca5e-c33e-4767-cd3d-39bf84f7707f",
        "colab": {
          "base_uri": "https://localhost:8080/"
        }
      },
      "execution_count": 53,
      "outputs": [
        {
          "output_type": "stream",
          "name": "stdout",
          "text": [
            "Por favor, ingresa el número de la fila: 1\n",
            "Por favor, ingresa el número de la columna: 0\n",
            "El elemento en la posición (1, 0) es: 5.0\n",
            "La función tardó 2.6226043701171875e-06 segundos en ejecutarse.\n"
          ]
        }
      ]
    },
    {
      "cell_type": "code",
      "source": [],
      "metadata": {
        "id": "gPr_v5OZfnkr"
      },
      "execution_count": null,
      "outputs": []
    }
  ]
}