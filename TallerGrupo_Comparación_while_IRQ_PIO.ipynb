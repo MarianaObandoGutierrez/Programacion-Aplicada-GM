{
  "nbformat": 4,
  "nbformat_minor": 0,
  "metadata": {
    "colab": {
      "provenance": [],
      "include_colab_link": true
    },
    "kernelspec": {
      "name": "python3",
      "display_name": "Python 3"
    },
    "language_info": {
      "name": "python"
    }
  },
  "cells": [
    {
      "cell_type": "markdown",
      "metadata": {
        "id": "view-in-github",
        "colab_type": "text"
      },
      "source": [
        "<a href=\"https://colab.research.google.com/github/MarianaObandoGutierrez/Programacion-Aplicada-GM/blob/main/TallerGrupo_Comparaci%C3%B3n_while_IRQ_PIO.ipynb\" target=\"_parent\"><img src=\"https://colab.research.google.com/assets/colab-badge.svg\" alt=\"Open In Colab\"/></a>"
      ]
    },
    {
      "cell_type": "markdown",
      "source": [
        "#  Practica 1: Control de LED con Botón\n",
        "\n",
        "## Introducción\n",
        "En esta práctica, aprenderemos a controlar el parpadeo de un LED utilizando un botón. Exploraremos 3 formas distintas de programación en la Raspberry Pi Pico (W) usando Micropython.\n",
        "\n",
        "## Materiales\n",
        "- Raspberry Pi Pico (W)\n",
        "- LED\n",
        "- Botón\n",
        "- Resistencias (según necesidad)\n",
        "- Cables de conexión\n",
        "\n",
        "## Programación\n",
        "A continuación, presentamos tres enfoques distintos para hacer parpadear el LED mientras se presiona el botón.\n",
        "### Código con while\n",
        "\n",
        "```python\n",
        "from machine import Pin\n",
        "import time\n",
        "\n",
        "led_pin = Pin(0, Pin.OUT)   \n",
        "button_pin = Pin(15, Pin.IN,Pin.PULL_UP)  \n",
        "\n",
        "while True:\n",
        "    button_state = button_pin.value()\n",
        "    if button_state == 0:\n",
        "        led_pin.toggle()  \n",
        "\n",
        "```\n",
        "\n",
        "\n",
        "### Código con IRQ\n",
        "\n",
        "```python\n",
        "from machine import Pin,Timer\n",
        "\n",
        "pin_led = Pin(0, mode=Pin.OUT)\n",
        "pin_button = Pin(15, mode=Pin.IN, pull=Pin.PULL_UP)\n",
        "\n",
        "def toggle_led(t:Timer):\n",
        "    pin_led(not pin_led() and pin_button())\n",
        "\n",
        "Timer().init(mode=Timer.PERIODIC, period= 500, callback=toggle_led)\n",
        "```\n",
        "\n",
        "\n",
        "\n",
        "\n",
        "### Código con PIO\n",
        "```python\n",
        "import time\n",
        "import rp2\n",
        "from machine import Pin\n",
        "\n",
        "\n",
        "@rp2.asm_pio(set_init=rp2.PIO.OUT_LOW)\n",
        "def blink():\n",
        "    wrap_target()\n",
        "    jmp(pin, \"one\")    \n",
        "    set(pins, 1)   [31]\n",
        "    label(\"one\")\n",
        "    nop()          [31]\n",
        "    nop()          [31]\n",
        "    nop()          [31]\n",
        "    nop()          [31]\n",
        "    set(pins, 0)   [31]\n",
        "    nop()          [31]\n",
        "    nop()          [31]\n",
        "    nop()          [31]\n",
        "    nop()          [31]\n",
        "    wrap()\n",
        "\n",
        "sm = rp2.StateMachine(0, blink, freq=2000, set_base=Pin(0),jmp_pin=Pin(15))\n",
        "sm.active(1)\n",
        "\n",
        "```\n",
        "\n",
        "\n",
        "## Ejercicio de documentación\n",
        "1. Comente los códigos.\n",
        "2. ¿Puede predecir si el LED parpadea al oprimir el botón o al soltar el botón?\n",
        "2. Calcule el valor de la fracuencia en cada caso.\n",
        "3. Determine los pines usados y realice el montaje.\n",
        "3. Ejecute el código y mida la frecuencia y el error.\n",
        "4. Describa como puede modificar la frecuencia y cual sería la máxima en cada caso, debe consultar la el menor valor de `period` en `Timer`. El mayor vlor de `freq` en  `StateMachine``es 1'250,000 Hz.\n",
        "5. Modifique los programas para aumentar a la máxima frecuaencia  y mida la fracuencia y el error.\n",
        "\n",
        "\n",
        "\n",
        "\n",
        "## Conclusiones:\n",
        "1. Enumenre las ventajas y deventajas de cada uno de los programas.\n",
        "2. Describa en que casos es convenientne cada uno de los programas.\n",
        "3. ¿Cual es la diferencia entre time y timer?\n",
        "\n",
        "\n",
        "\n"
      ],
      "metadata": {
        "id": "g6KeV7eVBTY8"
      }
    },
    {
      "cell_type": "markdown",
      "source": [],
      "metadata": {
        "id": "idjVpGFLdlAp"
      }
    },
    {
      "cell_type": "markdown",
      "source": [
        "Integrantes grupo\n",
        "\n",
        "*   Julian Pacheco\n",
        "*  Mariana Obando\n",
        "* Juan Dominguez\n",
        "\n",
        "\n",
        "\n",
        "#Punto 1\n",
        "\n",
        "1.   Codigo con While\n",
        "\n",
        "\n",
        "          # Importa las bibliotecas Pin y time\n",
        "          from machine import Pin  # Importa la clase Pin de la biblioteca machine para programar un Pin en la pico\n",
        "          import time             # Importa la biblioteca time para trabajar con tiempos\n",
        "\n",
        "          # Configurar los pines\n",
        "          led_pin = Pin(0, Pin.OUT)          # Configura el pin 0 como una salida para controlar el LED\n",
        "          button_pin = Pin(15, Pin.IN, Pin.PULL_UP)  # Configura el pin 15 como una entrada para el botón con resistencia pull-up\n",
        "\n",
        "          # Bucle principal\n",
        "          while True:  # Inicia un bucle infinito\n",
        "              button_state = button_pin.value()  # Lee el estado del botón (0 para presionado, 1 para no presionado)\n",
        "    \n",
        "              if button_state == 0:  # Si el botón está presionado (estado 0)\n",
        "                  led_pin.toggle()   # Invierte el estado del LED (si está encendido, lo apaga; si está apagado, lo enciende)\n",
        "    \n",
        "  El bucle continuará ejecutándose indefinidamente y monitoreará el estado del botón.\n",
        "  Cuando se presione el botón, cambiará el estado del LED.\n",
        "\n",
        "\n",
        "#Segundo codigo\n",
        "          # Importar las bibliotecas necesarias\n",
        "          from machine import Pin, Timer  # Importa las clases Pin y Timer de la biblioteca machine\n",
        "\n",
        "          # Configuración de los pines\n",
        "          pin_led = Pin(0, mode=Pin.OUT)  # Configura el pin 0 como salida para controlar el LED\n",
        "          pin_button = Pin(15, mode=Pin.IN, pull=Pin.PULL_UP)  # Configura el pin 15 como entrada para el botón con resistencia pull-up\n",
        "\n",
        "          # Definición de la función de callback toggle_led\n",
        "          def toggle_led(t: Timer):\n",
        "              # Esta función se ejecutará periódicamente cuando el temporizador se active\n",
        "              # Verifica si el LED está apagado y el botón está presionado (estado bajo)\n",
        "              if not pin_led() and not pin_button():\n",
        "                  pin_led.on()  # Enciende el LED\n",
        "              else:\n",
        "                  pin_led.off()  # Apaga el LED\n",
        "\n",
        "          # Inicialización del temporizador\n",
        "          Timer().init(mode=Timer.PERIODIC, period=500, callback=toggle_led)\n",
        "Este codigo hace que el LED parpadee cuando el boton esta oprimido, de lo contrario lo mantiene apagado\n",
        "\n",
        "\n",
        "\n",
        "#Tercer codigo\n",
        "          import time         # Importa la biblioteca time para trabajar con tiempos\n",
        "          import rp2          # Importa el framework RP2, que permite programar el RP2040 (Raspberry Pi Pico)\n",
        "          from machine import Pin  # Importa la clase Pin de la biblioteca machine\n",
        "\n",
        "          # Define una función de ensamblaje llamada \"blink\" utilizando el decorador @rp2.asm_pio\n",
        "          @rp2.asm_pio(set_init=rp2.PIO.OUT_LOW)\n",
        "          def blink():\n",
        "              wrap_target()   # Marca el inicio de un bucle\n",
        "    \n",
        "              # Salta a la etiqueta \"one\"\n",
        "              jmp(pin, \"one\")    \n",
        "    \n",
        "              set(pins, 1)    # Establece el pin de salida en alto\n",
        "    \n",
        "          # Etiqueta \"one\" (a donde saltó)\n",
        "              label(\"one\")\n",
        "    \n",
        "              nop()           \n",
        "              nop()           \n",
        "              nop()         \n",
        "              nop()           \n",
        "    \n",
        "              set(pins, 0)    # Establece el pin de salida en bajo\n",
        "    \n",
        "              nop()         \n",
        "              nop()         \n",
        "              nop()         \n",
        "              nop()         \n",
        "    \n",
        "              wrap()          # Vuelve al inicio del bucle\n",
        "\n",
        "          # Crea una máquina de estado\n",
        "          sm = rp2.StateMachine(0, blink, freq=2000, set_base=Pin(0), jmp_pin=Pin(15))\n",
        "\n",
        "          # Activa la máquina de estado\n",
        "          sm.active(1)\n",
        "\n",
        "Este codigo hace que el LED parpadee con la velocidad que determina la variable freq hasta que se oprima el boton, en ese caso se apaga.\n",
        "\n",
        "#Punto 2\n",
        "Si se puede predecir, como todos los programas estan utilizando la configuracion PUll-Up, lee un valor de 0 cuando esta oprimido el boton. Por lo tanto, de los codigos se debe ver si valida el parametro del boton en 0 o en 1, quiere decir que va a ocurrir alguna accion dependiendo si asigna generalmente dentro del bucle la validacion de este en 0 (presionado) o 1 (sin presionar).\n",
        "\n",
        "     \n",
        "\n"
      ],
      "metadata": {
        "id": "QDv4KYNLdn6E"
      }
    },
    {
      "cell_type": "markdown",
      "source": [
        "#Frecuencias iniciales\n",
        "![1.PNG](data:image/png;base64,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)"
      ],
      "metadata": {
        "id": "OFpxyLEUkL0_"
      }
    },
    {
      "cell_type": "markdown",
      "source": [
        "#Frecuencias maximas en las que se reconoce el titileo\n",
        "![Captura.PNG](data:image/png;base64,iVBORw0KGgoAAAANSUhEUgAAARYAAAC8CAYAAAC9vYFzAAAAAXNSR0IArs4c6QAAAARnQU1BAACxjwv8YQUAAAAJcEhZcwAAFiUAABYlAUlSJPAAABk1SURBVHhe7Z0/r9w2l8bvZ0lrNzF8gVT5AoZbGwaMpEgXIO5TpDBgx8X9BlmkCQLYSJU2xZtigRQu3Bl4q223WWDbLWdJkY9EHh1SJIczV3+eA/zga4niv3P4DEXNiDcnYZ8/f/Z/0fZo9C+tt2kxRWE5mNG/tN5GYaHRv7TutigsNzc3hBBSjbQbqzZAu4AQQpYIdWTQEi8wgyHRf/znfxNCyCLQDGkUFkJIMxQWQkh3KCyEkO5QWAgh3aGwEEK6Q2EhhHSHwkII6Q6FhZB74Z/T84duXN08fH16q6bZLpsQlrc/PB7roPH1nX4dCYkD+ZWahizT0o/aNRSWMZGWwTWgsPTg99PXY589Pj1/r6UhjqCvnv6ePhf1Y+01FJYxkZbBNQiFhSLSyr4DuS85kUj1Y+01FJYxkZbBNaCwkOuSE4kUtddQWMZEWgbXoFRYxnTWse9fn772jvvih9DR/5xePX18+sLnN5x/+PL0Srs1eP/76XmU1vxt8kYQvHqK4+b66LrX4zVf/PDPdHygrPy4La4eSH9j0qu3Mtn6pgP57Z3tqyB/g94npu4/vCzru4Cxn3xborLG60W/mDTP72TfFdb17uV03paJ41m/OCafStK3MC3X5Pwx6wtDup+9T5DXgPX760W/XBLURdq2hcUEXuiUKbiCT5UZj+O8gyCUICjrhaW8/KnNoi0j4f29YbG+eiCnB4UlLiOZdjYwYqbr0m2JB8Z0vKj8gTBt0NbgeNJfAekykM+lhaUiRm1atd9A3H/XBHWQtlphmTMFSZxu6tT5IDLn8GloP0FxTWLAfT1+cvpPkkZhqSk/bsv0aRUe1/NO1TclLHZQ2/ynvN4Gn/hjGWqb/jH1sZ+W4cCYE9YtnqEEx4dB4/JNt7GwrpZw1mLrF9Q/9+HkCHwSzngGCgSh6JqUP/yxyhi1s3IcD/skruP1QPnSNi8s8+BJO366DmKUC5KJybFTHQbUQVhTvn7MoeVTUt/UgNBYKCM5LddJ9lNKFIraA9JpY+HyFA20XPmXFJZ0HtkYVdqU7PMr4crekLDkPm3Sg9GQuVWY8NclZhySKmGpKd+krxKWovqmBoSZdZgB/oVYtxgJAjz0g8PMMoJPyhT9hKW8rgOzPlfiQqVWJFquUY7VxEiYdlbewli4AqivNAqLP7ZvYQmOpRBB+1YuvlqiATanj7DU11Xr85w/Jygs54L6StufsGQdL1hwGpgGjChPHegV5RtahSWd90IgPy0dJCBeI8n5pYuwVNc1bO/j6VpZB5Vc+y8oLEX9DoK0UT0sQd5F7e2PK/sQwhJ2tjk/LnAa3vtFTs3pQ5lIGy/ehvUaB0Y4AMLjVeVXCktRfYM0KCcSwCmvV0G7xjJs2ocvo3rn+3uit7As1tUgY0b1VZLCQRudq71m4VhBjITCHrYpWrxdFKjLgPKl7VBYDGLQzwidYO/ltTSG0YnJ/GwAuL+jIK4oP90WTVgMi/VdCuQEKCNX99lAiukiLDV1VQd5cGxBCC3hoI2v0fqx5ZpEPjUxupTWLrIj7ZVBHaTtU1gs7+WXyAxmqqwuQs7WE8x1xrFROuPc8LsE+GISgiweMDZ9WfnVwmLJ1jc1IMxxU5/wmq9NncdBEpThFk6RzqWd9YdCH2GxlNU11XdhHM36bobxU9iX4yBN9WPtNZl8KmO0OO0VQV2krUpYCCHbgsJCCOkOhYUQ0h0KCyGkOxQWQkh3ksISbeRMYSGEVADNCHVk0BIvMINRWAghNUAzpFFYCCHNUFgIId2hsBBCukNhIYR0h8JCCOkOhYUQ0h0KCyGkOxSWCzD+jH/2s/p1ML0+4GXVS7GPS/CKg8XXLRALNEMahaWV4OU7s3ex1HA35TO9Ea4PRe+tIRHsszpcX1FYutErAOteSlQHB0kL08unzvrAOAiIXWkUliZybxerJHjVJGcs62Dtt7hrwsUXhaUPvW6DLgyFpQ32WznQDGkUlhaCd7jq7+a1b5XX3hurbOCdfB+spSIfhWiA3Ll3po752DfxizyS76xNCGn0Dlr5Hl77Htghf//W+fG4rctcjEs3rB/b5MtcapOjsh+zPiEh6CdpFJYG8p9odoC5ftQR1+ReNF2Tj8JUzxRxHs3CYgepPx9jjqttSJWrEacN+z5VZtwvDf0YtJdPh/KgH6VRWBpIDsDonB2E0xvUkxt4J4SlOh+FWFimT//wuF5mrbAYohlKcNwM3J6bwLe3yR4v7cdpAZfCkgd9KI3C0kByAIYBqQx69Tp1ADXkozANNuVTHPkHAyeZ76KwiPQJUagbsHrauja19mP+OjLh+o/C0oHgiVBmAGoDRx0U2iBsyUdhO8LSsmF9QZua+7HjU7+d4/qPwtKFkgFYHMiHF5ZQqBMEdbyOsAR5UViyuP6jsHQhOaCyAZmY6aiDsCEfhXZhEekvKSzR4A/bqtexrk2t/aiXTea4/qOwdCEd3OFgiwdVtFgYBmtiEFbno1ArLFP6oMxw4IfHDb2FpW4T+FqxrOjHhZkOmUAfSqOwtBAE5ex7LGIgzrBPP8L0qUFYm49C7SBMlzk9Nu4uLJe8FbK09GOy/kSCfpJGYWkhCFY18Go28M4F8ZkbgVcPQotpW+nm932ExWLEJfyim6lvcsP6pjbV9WO6DCJBf0qjsDQRfMqeu7jHT8eVUb6GRSgs3en1qTblk/p5ALkqS7NREoHYlUZhaeXcAJzd+/PTcQ3wNqgOxK80CssZjGsALbdDobA8TP14jlyX4DZIrtMQFWiGNAoLIaSZKmEhhJAapN1EO8QrFxBCyBKhjgxa4gVmMCTSpjxk+9C/pDeIKWkUlgNB/5LeIKakUVgOBP1LeoOYkkZhORD0L+kNYkoaheVA0L+kN4gpaRSWA0H/kt4gpqRRWA4E/Ut6g5iSRmE5EPTvxvG/hL/Wj1XdT1byv2FDTEm7jLDMfmDnsFs8aJtVkesAP2jnUj5z8Ad5peBHjP1/Ge1/xyR/lwa/JX/b5N9Tc8bv2XJtQYxIu6yw2JfpPH3pCN7Azp+j3w9Z/2o+G3nNX14XcjFhSQ3ySwpLSswCEFPSLissszd5+eN8RcC9kPXvYoCS+8QJljJzvKiwZMr1IKakXVdYDHjVAF9qdH2y/qWwrJjMzOHCwoL8UzMwxJS0qwsLpoqjsAQLUnarTVcHo5CR8PhNvYdzHjtlT63XmPKT+/WiTovlYhOt8Hr3LtaoLJHXcE2YHnWM6pTIp6bMBpCndm45QD2L/Wax76uN3zGrbfCOtPJ9t1+YOoyDIChvdt3QT9rst7D8nN+SfV5W33ggnunXnG8W/aYJC/puzlxA8sKE66Td/4zFO8JhneTWY8IBPnbCeP8/BY11apj/mN+wUPx7IEjWkeb/CK6Fcsd7ZeRzNwnDrPPHMv01vo4ub/t//7fJy9Z/rLvIp6rMBoY6GLRztcLiyPnLnntt2hD7IJ5S+6C1+L6ZtdeXVy4sFeVLvw11CGIrNciGa/L1Da89269KniNNwmLGoekTN5YS7RhJ9bPDXmORdl1hGYMyqOR4TAadA06ZdxycHF+nPiLz9Yk6baFc+2b3t7PjCfVO5DXWXZaN/pH51JTZAOqinZvqBPEOGPf7MRT6ayYESkyMA04Gs+mHV7jel1cqLDXlJ9uS8E9NfWN/n+fXZJssOb8NeKHMloOxpIuHG1O6v13/XVtYwsZ6RbQVjDpIc8RIXi3njvbpZ53oO04JKr3cFIn6pPLSgnkg366YmrR5XP8vCItG2J8l/jKfzK/em+l/hPFB5JvCdvnyyoSlpnxDsi2ZvAvruxxXhfkZioRliYyw5IRj6Tzyl3ZZYYnwU1NZuawjFlTdXxsOXHXGopVRFAAmIM209XnwCeDaVZD/gCJoA7mgKiyzgaGvDNq5tAgKSvyVY/Tlgm+BL69MWGrKNyTbksm7sL5anq1+LRKWpN8W6p31p2N9wrIUpJaSQF3olKgcHMP97ML9dbJDzXl3nYYIhmRevv6lwlJTZgPISzvXVViMv+YzBo+StmSgVglLUfmGZFs6C8uZfr2csJS1aYfCkhiAnvStkPlEGK5z5J4I5Mu1t23h+UR9knl5xxUJS2WZDaA/tHN9hKWmrr5vltImy8v1YWFfVeXdWl/k1e7XSwnL0i0Q2KGwoFHKeXvPPNQ3bLA7NntSpJEtN+UMc1wLhmRePp8iYaksswFbR4t2ro+waGIfMMwapv/nfDv+9MOXJ+uFcmS/1JSfbos+6GvqO6Xp4NdcnzcKS7afIvICaPOwSFu9sIwdYxkXgxFU8jp0gsBc5x71BWkXyh2DyD+yfD7eUllEJyfz8nUvEpbKMhtw+VxWWEJ/2Xbg8Sq++xFdhzItdpZpfQv/jfUIfOrTuO+DWJ/af2W/VJSfbEtiMJXUV8nzbL/mfLPoN01Y0Ed23dO3A8z6Qrt+wrVhk8JiMY4Ovl8wpJdC4XFKbATIfmdlCCrjSNNhuHacTi6W68pEeUOepjwXJCIYknl5p8z6IRG4NWU2gHy1c8U+K/SX/IKaW/NSrhme1sRtjr5w5tM8D9Lg1jbdL4XlJ9uS8o9hqb5qnuf61ddHG9xnCYuCLMPnn/I3rpN2GWG5L3JBXyN2O2Xz/j0wToSW10N6g1smdX3HgJiStithyXZC0Sftvtm6fw/NwszhMmRmSh7ElLR9zVgwKxmmp+5+1t0KYVp8/u3Eltm8fw/N8iDvToGYIaak7UtYLLN7YIty335AduHfI+Nn3anbkt6UrAEhpqTtT1hIEvqX9AYxJY3CciDoX9IbxJQ0VVgIIaQGaTfRDvHKBYQQskSoI4OWeIEZDIn+9e//JTsE/v2v//k/QrqAmJJGYTkQ8K8WIIS0gJiSRmE5EPCvFiCEtICYkkZhORDwrxYghLSAmJJGYTkQ8K8WIIS0gJiSRmE5EPCvFiCEtICYkkZhORDwrxYghLSAmJJ2LGH55duhfQ9+/KSfL6FHHvcE/KsFCCEtIKakrVdY/AC+efZH/vyXP59+087/+4/TE3m+UhR++/F2np7Csir+/vjn6cXtV2Pbbm6+Or148+fp7zPTpqjKw6T96Zsw7c3p0Td15a0dtEvaimcsijAEYNDf3Hx7eqec/9dfP58e2POhMFFYBrQA2SQfvvNt+soM2O9OL8JBbAZwc9oEf7/BNSV5GAEa096dfv0QiMzt3W7EBe2XtmJh+XT6/ktbn9vT93+lzjme/CLPT6IQneshChSW1WAH+iM5W/h4d3o0tPO706/B8Zq0KfJ5fHX66eN0/NdvXF+/+BCkDY4/evM5Or5VEFPSViwsiRnDgJvNPPjydj4rGYDwiNkMhWVAC5D98Pn0061tZzzQdWrSpkAeoYj42Yo2M4EQFc6S1g5iStqqhUW9nbH4wf3kl9TtUuJ4IAq/mb8fjLOe29MTTSg0EUkKy6fTu2de6DwPvjTCNptt3R+olxYg++G+hCXIA+Kh3vJkRGeDIKakrVtYEjOPd8+mY+5vcbuUGvz+OLAD/0kgBqn0y8Iy3bY9ePbz6Z0RvHc/GuEa8tVu5e4HtFsLkN2AtZSSGUFN2iRYSwlup7LCAiEqu/1aO4gpaSsXFghHuFbiBzFmI8pAd7dQyoAehUWcw8woM8PJHVPXcyypGdc94dq+M2H5+OewMPrrh7tgcTQxaGvSFjIu6EbilJsJUVjWgRzIfrDK/0+DVwhPiCYUAxVrMrNjKM/e9phbrAhzS5aqyz1g623RAmSrTE9qJoanMMqtTU3aIjKLv1NZ7nH08FTozXc+vX7NFkE/Slu/sMj1Ej+wZzMYiEJulnARYfH1y0FhuRKfT3+b2xs3eJfWTWrSakyPk1PXDvkPsxPPrRWZu9MLe4xrLPfPfE0lFoDoVmQmPAGXFBYjHvMZiwfX3jO23hYtQHbFxddZcDszf5y8jBeks9Z11gNiStomhGUSDi8AiadEdrBrwqOli8+dIyyJa1eIrbdFC5BdAbEomRXUpB04R1QMvryma1fI0HcGaZsQlun2xj1pmQsDZg3fujWN1GLpRYRlEr55voZh1iKO3RO2jhYtQLaHHeDmNuSD/KLZ5/FLaNOsoCatIfiuSSw2oag0fMEt+7RomyCmpG1DWMaBb9Ef3+LpkUUd4JYLCUu4zmIfN39vHzf/Yv59lhGce8DWxaIFyPaYBvmwQDp8xT61OFqT1oBZjDg+itCtu37Gm0mcXNqprGFdxZdfv56zXlybNissoXDkb3Oy3xu5mLBY5l+QszOo783tW5zu/kC9tADZJmbGYZ+0jIPWMCyQaj/0q0irzlhCcUoQzERmC7dGUPb2A0QL2idtM8JCzgf+1QKEkBYQU9IoLAcC/tUChJAWEFPSKCwHAv7VAoSQFhBT0igsBwL+1QKEkBYQU9IoLAcC/tUChJAWEFPSKCwHAv7VAoSQFhBT0rgpPCHkbEIdGbTEC8xgSKR92pHtA/9qnzyEtICYkkZhORDwrxYghLSAmJJGYTkQ8K8WIIS0gJiSRmE5EPCvFiCEtICYkkZhORDwrxYghLSAmJJGYTkQ8K8WIIS0gJiSRmE5EPCvFiCEtICYkkZhORDwrxYghLSAmJK2D2FJvUAbxyVf3g6vuYzSRnwSG5o57D5Ea3q/Si1ohxYge2PVm8XvCLRX2jGExQrJM7s5mdugDO3UX2H5h3u95ZDGbkDmrzN54LoHqVdfrhzUXwuQXTG+Ac6+XMm+wS0Y8OErKGvTpuiRx0ZBO6UdQ1hmQoBXScq3zU2vwLTiMXu7/l9/TOdX8rrJGuBfLUD2RH7z9vh1kzVpU/TIY6sgpqQdVFi0HRYNeL1lbh8g5LmBt/JL4F8tQPYPXi1Z8s7ZmrQpeuSxfhBT0g4qLJiZxDMWVWwUStOtDfhXC5D9Q2G5BIgpaQcUlk+nd367jnhmoouNRna7jxUD/2oBsnuwDlKy5lGTNkWPPDYAYkraMYRFYb6GgnWX5VscCssGuPZm8T3y2CCIKWnHEJbxqRC257CPm4N0AxSWPVGzAXxN2hQ98tgiaKu0YwhLePyvlIDU3wpxjWUrXHOzeEuPPLYBYkra8YTFkJpxlC3KlgvQ2oB/tQA5BDXrHj3WSHrksXIQU9IOKSyp2x4Izjx9APLMPZJeKfCvFiCHAAP9IpvFK/TIY+UgpqQdVFhSsxMITmL9ZLyN2t5tkAX+1QJkP9jHvOb242qbxVfmsTMQU9IOKyzjl+FS1wyEX+nHMcu3m7sNsqD+WoDsB3x/xPLVuCm7W++whE9qatIaMAM5J4+d4dpIYQnIrJX85Td4j8TEiszPp3cQJMPwyHpDAoN6awGyL665Wbylprx9gfZK24ewXBsjWOEPFbcye4F/tQAhpAXElDQKSzP2G7zfmhkRhYUcF8SUNArLgYB/tQAhpAXElDQKy4GAf7UAIaQFxJQ0CsuBgH+1ACGkBcSUNArLgYB/tQAhpAXElDRuCk8IOZtQRwYt8QIzGBJpn3Zk+8C/2icPIS0gpqRRWA4E/KsFCCEtIKakUVgOBPyrBQghLSCmpFFYDgT8qwUIIS0gpqRRWA4E/KsFCCEtIKakUVgOBPyrBQghLSCmpFFYDgT8qwUIIS0gpqRRWA4E/KsFCCEtIKak7UdYohc0TagbuWff02LhpvBb4dqbv498vDN52TwSL3Iat1jV2M/Ln9AmafsTlnAD+HAj9/BVk1lh+WNxU3h73dbed2tB/bUA2STjG92WN2Oftuc4f+P2eKuPvLA8unVvlIvZzwug0A/S9icsUizGmUzw4uyksOCtcv7tcNE5AzeFXxV2gPfZ/L10i47pNZQ2L/d3XlhefFDO7QjElLT9C4th9uLsVFpuCr8DMPhLxGISiiIBGMQC+eJaCotF2iGEZbbBWCItN4XfAy3CUjpjCaGwWBBT0jhjGdNxU/hdgHWXonWTP08vhj5JiEOWMmGxt0xuT2fDR7lFyPZBTEnbv7CMb9VfWmNJbb06h8KyIs7YjH1chK1cvHWUCQv6fMI+idqPwKBd0vYnLNFTIThTbAJPYdkN8RMaR9Fm7OPAb5mtWBaEReFvI34Qm73cIqHPpe1PWCL8XkCzfYM0YeGm8NundDN23AK1rK2AemEZ2Nm2q4gpafsTFnkrpJFIW7Yoy03hV092nQWCcO6soVFYMFOisGyEDsKCmUg2D1zLTeHXS3JW0EtULBQWC2JKGoUlOsdN4beDHdjmVqZ4M/ZQVBYWTzH4s9+QbRGWqQ6PdrKAi5iSRmFJnRvQN4Xf4rduLai/FiDbYxqkw5MW/3V5LI7KAT+KjfoVe8ObQIQw45mJhhWt6Rqs5bifCLg8nBDZ3yTZr/NP9Yp+QrCT2YoFbZJGYVHPZzaF39i6SgjaogXINindjD0UoQThYE/OWLDom2ISIvsEKP7Bo8HWbWm2tDHQNmn7ERayCPyrBQghLSCmpFFYDgT8qwUIIS0gpqRRWA4E/KsFCCEtIKakUVgOBPyrBQghLSCmpFFYDgT8qwUIIS0gpqRRWA4E/KsFCCEtIKakqcJCCCE1SLuJdohXLiCEkCVCHRm0xAvMaPYgbb9G/9J6mxZTFJaDGf1L620UFhr9S+tuFBYa/UvrbhQWGv1L624UFhr9S+tu85g6nf4f13q2nXF3HxwAAAAASUVORK5CYII=)"
      ],
      "metadata": {
        "id": "8ricxOW7kR-s"
      }
    },
    {
      "cell_type": "markdown",
      "source": [
        "#Frecuencias maximas que permite la rasp\n",
        "Aunque en teoria el valor de esta frecuencia por la maquina de estado es de 1'250.000 Hz, pudimos observar que en este caso, definiendo la variable de periodo, este valor es distinto en estos codigos, los valores obtenidos son entonces:\n",
        "![3.PNG](data:image/png;base64,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)"
      ],
      "metadata": {
        "id": "IKTJI3VIkZO-"
      }
    },
    {
      "cell_type": "markdown",
      "source": [],
      "metadata": {
        "id": "yASq8EozkxAl"
      }
    },
    {
      "cell_type": "markdown",
      "source": [
        "#Conclusiones:\n",
        "1.Enumenre las ventajas y deventajas de cada uno de los programas.\n",
        "> While:\n",
        "  >>Ventajas: Es muy sencillo de utilizar. Repite una tarea hasta que verifique que el estado que esta verificando ha tenido el parametro que esta esperando para cambiar.\n",
        "\n",
        "  >>Desventajas: Puede llegar a bloquearse, debe completar el proceso completo para validar si ocurrio algun cambio, consume CPU.\n",
        "\n",
        ">IRQ:\n",
        ">>Ventajas: Responde rapido y permite que se esten ejecutando varias tareas al tiempo ya que tiene la capacidad de interrumpir cualquier en el momento en que ocurra el factor de cambio, ahorra memoria y se ejecuta de manera inmediata, sin esperar a que termine la accion como ocurre en un buqle.\n",
        "\n",
        ">>Desventajas: Puede ser compleja su aplicacion en terminos de priorizacion y ejecucion alterna de varias interrupciones al tiempo.\n",
        "\n",
        ">PIO\n",
        ">>Ventajas: Permite el desarrollo de tareas mas complejas sin alterar su rendimiento, realiza tareas en funcion del tiempo real.\n",
        "\n",
        ">>Desventajas: Requiere un hadware especifico y este puede limitar algunas acciones, requiere un conocimiento mas desarrollado de programacion para implementarlo\n",
        "\n",
        "2.Describa en que casos es convenientne cada uno de los programas.\n",
        "> While: Es conveniente utilizar este bucle si se quiere realizar una accion repetitiva sin mucha intervencion del tiempo hasta que el usuario realice alguna accion.\n",
        "\n",
        ">IRQ: Es una buena opcion cuando se quiere que alguna accion externa del usuario o del medio, interrumpa de manera inmediata el estado del programa. Es muy util en programas complejos ya que este ahorra energia antes de que se ejecute la interrupcion\n",
        "\n",
        ">PIO: Para tareas complejas, es la opcion mas rapida y con mejor respuesta logica.\n",
        "\n",
        "3.¿Cual es la diferencia entre time y timer?\n",
        "\n",
        "\n",
        "> Time: Se usa para obtener el tiempo inmediato en el que se esta ejecutando una accion.\n",
        "> Timer: Permite fijar un tiempo para que se realice o se retrase una accion determinada.\n",
        "\n"
      ],
      "metadata": {
        "id": "SrHbBRyQk36A"
      }
    },
    {
      "cell_type": "markdown",
      "source": [],
      "metadata": {
        "id": "Ii1KqirypCQZ"
      }
    }
  ]
}