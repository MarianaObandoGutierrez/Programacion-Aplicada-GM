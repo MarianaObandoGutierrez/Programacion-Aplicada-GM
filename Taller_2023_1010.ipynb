{
  "nbformat": 4,
  "nbformat_minor": 0,
  "metadata": {
    "colab": {
      "provenance": [],
      "include_colab_link": true
    },
    "kernelspec": {
      "name": "python3",
      "display_name": "Python 3"
    },
    "language_info": {
      "name": "python"
    }
  },
  "cells": [
    {
      "cell_type": "markdown",
      "metadata": {
        "id": "view-in-github",
        "colab_type": "text"
      },
      "source": [
        "<a href=\"https://colab.research.google.com/github/MarianaObandoGutierrez/Programacion-Aplicada-GM/blob/main/Taller_2023_1010.ipynb\" target=\"_parent\"><img src=\"https://colab.research.google.com/assets/colab-badge.svg\" alt=\"Open In Colab\"/></a>"
      ]
    },
    {
      "cell_type": "code",
      "execution_count": 37,
      "metadata": {
        "id": "Vv2nRucI8EVn",
        "colab": {
          "base_uri": "https://localhost:8080/"
        },
        "outputId": "7066da81-3c6d-4537-9106-8117d112054b"
      },
      "outputs": [
        {
          "output_type": "execute_result",
          "data": {
            "text/plain": [
              "(array('f', [1.0, 2.0, 3.0]), array('f', [4.0, 2.0, 3.0]))"
            ]
          },
          "metadata": {},
          "execution_count": 37
        }
      ],
      "source": [
        "from array import array\n",
        "lista_1= [1,2,3]\n",
        "lista_2= [4,2,3]\n",
        "array1 = array(\"f\",lista_1)\n",
        "array2 = array(\"f\", lista_2)\n",
        "array1,array2"
      ]
    },
    {
      "cell_type": "code",
      "source": [
        "#PUNTO A\n",
        "#1.Suma de arreglos\n",
        "\n",
        "def sumar_arrays(array1, array2):\n",
        "    if len(array1) == len(array2):\n",
        "        suma_de_arreglos = array(\"f\", [])\n",
        "        for i in range(len(array1)):\n",
        "            suma_de_arreglos.append(array1[i] + array2[i])\n",
        "        return suma_de_arreglos\n",
        "    else:\n",
        "        return \"Los arrays no tienen la misma cantidad de elementos, por lo tanto, no se pueden sumar\"\n",
        "resultado = sumar_arrays(array1, array2)\n",
        "print(resultado)\n",
        "\n"
      ],
      "metadata": {
        "colab": {
          "base_uri": "https://localhost:8080/"
        },
        "id": "Z17X4zavQbIr",
        "outputId": "a6cfbada-e6de-4ff3-bc87-ebba02016c25"
      },
      "execution_count": 36,
      "outputs": [
        {
          "output_type": "stream",
          "name": "stdout",
          "text": [
            "array('f', [5.0, 4.0, 6.0])\n"
          ]
        }
      ]
    },
    {
      "cell_type": "code",
      "source": [
        "#Declarar los arreglos de arreglos\n",
        "A = array(\"f\",array1+array2+array1)\n",
        "B = array (\"f\", array2+array2+array1)\n",
        "A,B"
      ],
      "metadata": {
        "colab": {
          "base_uri": "https://localhost:8080/"
        },
        "id": "cZXBSU8hTtMS",
        "outputId": "c9af806f-7078-406f-8798-4fa3d010ca08"
      },
      "execution_count": 38,
      "outputs": [
        {
          "output_type": "execute_result",
          "data": {
            "text/plain": [
              "(array('f', [1.0, 2.0, 3.0, 4.0, 2.0, 3.0, 1.0, 2.0, 3.0]),\n",
              " array('f', [4.0, 2.0, 3.0, 4.0, 2.0, 3.0, 1.0, 2.0, 3.0]))"
            ]
          },
          "metadata": {},
          "execution_count": 38
        }
      ]
    },
    {
      "cell_type": "code",
      "source": [
        "#2.Suma de arreglo de arreglos\n",
        "def sumar_arreglo_de_arreglos(A, B):\n",
        "    if len(A) == len(B):\n",
        "        suma_de_arreglos = array(\"f\", [])\n",
        "        for i in range(len(A)):\n",
        "            suma_de_arreglos.append(A[i] + B[i])\n",
        "        return suma_de_arreglos\n",
        "    else:\n",
        "        return \"Los arrays no tienen la misma cantidad de elementos, por lo tanto, no se pueden sumar\"\n",
        "\n",
        "resultado = sumar_arreglo_de_arreglos(A, B)\n",
        "print(resultado)"
      ],
      "metadata": {
        "colab": {
          "base_uri": "https://localhost:8080/"
        },
        "id": "kd3FEY6WUywf",
        "outputId": "0e399ab8-cb06-4f49-deac-8acb61d9fa7b"
      },
      "execution_count": 39,
      "outputs": [
        {
          "output_type": "stream",
          "name": "stdout",
          "text": [
            "array('f', [5.0, 4.0, 6.0, 8.0, 4.0, 6.0, 2.0, 4.0, 6.0])\n"
          ]
        }
      ]
    },
    {
      "cell_type": "code",
      "source": [
        "#3.Sumar constante a arreglo\n",
        "def sumar_constante_arreglo(array1, constante):\n",
        "    suma_de_arreglos = []\n",
        "\n",
        "    for i in range(len(array1)):\n",
        "        suma_de_arreglos.append(array1[i] + constante)\n",
        "\n",
        "    return suma_de_arreglos\n",
        "\n",
        "constante=8\n",
        "resultado1 = sumar_constante_arreglo(array1,constante)\n",
        "print(resultado1)\n",
        "resultado2 = sumar_constante_arreglo(array2,constante)\n",
        "print(resultado2)"
      ],
      "metadata": {
        "id": "5LaINP-BeOO9",
        "outputId": "497b0941-ba60-4fc5-a8a4-c9d64d3b15e7",
        "colab": {
          "base_uri": "https://localhost:8080/"
        }
      },
      "execution_count": 59,
      "outputs": [
        {
          "output_type": "stream",
          "name": "stdout",
          "text": [
            "[9.0, 10.0, 11.0]\n",
            "[12.0, 10.0, 11.0]\n"
          ]
        }
      ]
    },
    {
      "cell_type": "code",
      "source": [
        "#3.Sumar constante a arreglo de arreglos\n",
        "def sumar_constante_arreglodearreglos(A, constante):\n",
        "    suma_de_arreglos = []\n",
        "\n",
        "    for i in range(len(A)):\n",
        "        suma_de_arreglos.append(A[i] + constante)\n",
        "\n",
        "    return suma_de_arreglos\n",
        "\n",
        "constante=5\n",
        "resultado1 = sumar_constante_arreglodearreglos(A,constante)\n",
        "print(resultado1)\n",
        "resultado2 = sumar_constante_arreglodearreglos(B,constante)\n",
        "print(resultado2)"
      ],
      "metadata": {
        "id": "3RTm3HQ2e-wN",
        "outputId": "3b191cd8-aa44-4a5f-da82-f35704bf90b5",
        "colab": {
          "base_uri": "https://localhost:8080/"
        }
      },
      "execution_count": 60,
      "outputs": [
        {
          "output_type": "stream",
          "name": "stdout",
          "text": [
            "[6.0, 7.0, 8.0, 9.0, 7.0, 8.0, 6.0, 7.0, 8.0]\n",
            "[9.0, 7.0, 8.0, 9.0, 7.0, 8.0, 6.0, 7.0, 8.0]\n"
          ]
        }
      ]
    },
    {
      "cell_type": "code",
      "source": [
        "#PUNTO B\n",
        "#1.Producto punto de arreglo\n",
        "def producto_punto(array1, array2):\n",
        "    if len(array1) == len(array2):\n",
        "        suma_de_arreglos = []\n",
        "        pp = 0\n",
        "        for i in range(len(array1)):\n",
        "            suma_de_arreglos.append(array1[i] * array2[i])\n",
        "            pp += suma_de_arreglos[i]  # Suma individual de elementos\n",
        "\n",
        "        return pp\n",
        "    else:\n",
        "        return \"Los arrays no tienen la misma cantidad de elementos, por lo tanto, no se pueden sumar\"\n",
        "\n",
        "resultado = producto_punto(array1, array2)\n",
        "print(resultado)"
      ],
      "metadata": {
        "colab": {
          "base_uri": "https://localhost:8080/"
        },
        "id": "YFyKyJMvVgVd",
        "outputId": "64ec1a31-e7c2-41a4-f519-0ae182a3afb2"
      },
      "execution_count": 61,
      "outputs": [
        {
          "output_type": "stream",
          "name": "stdout",
          "text": [
            "17.0\n"
          ]
        }
      ]
    },
    {
      "cell_type": "code",
      "source": [
        "#2.Multiplicar por constante a arreglo\n",
        "def multiplicar_por_constante(array1, constante):\n",
        "    resultado = []\n",
        "    for valor in array1:\n",
        "        resultado.append(valor * constante)\n",
        "    return resultado\n",
        "constante = 2\n",
        "resultado = multiplicar_por_constante(array1, constante)\n",
        "print(resultado)"
      ],
      "metadata": {
        "id": "4ds4W32fb_9l",
        "outputId": "151cf9f0-baf8-4cc1-9cbc-a03c079b6438",
        "colab": {
          "base_uri": "https://localhost:8080/"
        }
      },
      "execution_count": 62,
      "outputs": [
        {
          "output_type": "stream",
          "name": "stdout",
          "text": [
            "[2.0, 4.0, 6.0]\n"
          ]
        }
      ]
    },
    {
      "cell_type": "code",
      "source": [
        "#3.Multiplicar por constante a arreglo de arreglos\n",
        "def multiplicar_por_constante(A, constante):\n",
        "    resultado = []\n",
        "    for valor in A:\n",
        "        resultado.append(valor * constante)\n",
        "    return resultado\n",
        "constante = 2\n",
        "resultado = multiplicar_por_constante(A, constante)\n",
        "print(resultado)"
      ],
      "metadata": {
        "id": "JH8uyWc_cw_N",
        "outputId": "5442958e-cb92-4c53-e70d-09c3b133fafb",
        "colab": {
          "base_uri": "https://localhost:8080/"
        }
      },
      "execution_count": 63,
      "outputs": [
        {
          "output_type": "stream",
          "name": "stdout",
          "text": [
            "[2.0, 4.0, 6.0, 8.0, 4.0, 6.0, 2.0, 4.0, 6.0]\n"
          ]
        }
      ]
    },
    {
      "cell_type": "code",
      "source": [
        "#4.Producto punto de arreglo por constante\n",
        "    #Prueba 1 con array1, constante = 3\n",
        "def producto_punto_por_constante(array1, array2, constante):\n",
        "    if len(array1) == len(array2):\n",
        "        suma_de_arreglos = []\n",
        "        pp = 0\n",
        "        for i in range(len(array1)):\n",
        "            suma_de_arreglos.append(array1[i] * array2[i])\n",
        "            pp += suma_de_arreglos[i]  # Suma individual de elementos\n",
        "\n",
        "        resultado = pp * constante\n",
        "        return resultado\n",
        "    else:\n",
        "        return \"Los arrays no tienen la misma cantidad de elementos, por lo tanto, no se pueden sumar\"\n",
        "constante = 2\n",
        "resultado = producto_punto_por_constante(array1, array2, constante)\n",
        "print(resultado)"
      ],
      "metadata": {
        "colab": {
          "base_uri": "https://localhost:8080/"
        },
        "id": "kL2lJHUNX163",
        "outputId": "c46a45eb-4b7b-4628-d292-57a3fcf6651b"
      },
      "execution_count": 64,
      "outputs": [
        {
          "output_type": "stream",
          "name": "stdout",
          "text": [
            "34.0\n"
          ]
        }
      ]
    },
    {
      "cell_type": "code",
      "source": [
        "#5.Producto punto de arreglo de arreglos por constante\n",
        "#Tomando A de la concatenacion anterior de los dos arrays, para hacer un arreglo de dos arreglos\n",
        "def producto_punto_arreglodearreglos_constante(A, constante):\n",
        "    suma_de_arreglos = []\n",
        "    pp = 0\n",
        "\n",
        "    for i in range(len(A)):\n",
        "        suma_de_arreglos.append(A[i] * constante)\n",
        "        pp += suma_de_arreglos[i]  # Suma individual de elementos\n",
        "\n",
        "    return pp\n",
        "\n",
        "constante = 3\n",
        "resultado = producto_punto_arreglodearreglos_constante(A, constante)\n",
        "\n",
        "print(resultado)"
      ],
      "metadata": {
        "colab": {
          "base_uri": "https://localhost:8080/"
        },
        "id": "RH6J4qaTZXv9",
        "outputId": "909967dd-d78c-4678-bdf1-97e741366e18"
      },
      "execution_count": 65,
      "outputs": [
        {
          "output_type": "stream",
          "name": "stdout",
          "text": [
            "63.0\n"
          ]
        }
      ]
    },
    {
      "cell_type": "code",
      "source": [
        "#PUNTO C\n",
        "#A. Intercambiar reglones en un arrelgo de arreglos\n",
        "def\n",
        "num_columnas = len(array1[0])"
      ],
      "metadata": {
        "id": "iT3A0TmOfhCs"
      },
      "execution_count": null,
      "outputs": []
    }
  ]
}