{
  "nbformat": 4,
  "nbformat_minor": 0,
  "metadata": {
    "colab": {
      "provenance": [],
      "include_colab_link": true
    },
    "kernelspec": {
      "name": "python3",
      "display_name": "Python 3"
    },
    "language_info": {
      "name": "python"
    }
  },
  "cells": [
    {
      "cell_type": "markdown",
      "metadata": {
        "id": "view-in-github",
        "colab_type": "text"
      },
      "source": [
        "<a href=\"https://colab.research.google.com/github/MarianaObandoGutierrez/Programacion-Aplicada-GM/blob/main/Quiz_1.ipynb\" target=\"_parent\"><img src=\"https://colab.research.google.com/assets/colab-badge.svg\" alt=\"Open In Colab\"/></a>"
      ]
    },
    {
      "cell_type": "code",
      "execution_count": 5,
      "metadata": {
        "colab": {
          "base_uri": "https://localhost:8080/"
        },
        "id": "nulqCnUyFtzW",
        "outputId": "006d73ae-d17d-452a-e587-ae707797d1ed"
      },
      "outputs": [
        {
          "output_type": "stream",
          "name": "stdout",
          "text": [
            "6\n",
            "7\n",
            "8\n",
            "9\n",
            "10\n"
          ]
        }
      ],
      "source": [
        "e = [1, 2, 3, 4, 5]\n",
        "\n",
        "def suma(x):\n",
        "    return x + 5\n",
        "\n",
        "# Usar list() para convertir la salida de map en una lista para imprimir\n",
        "y = list(map(suma, e))\n",
        "\n",
        "for i in y:\n",
        "    print(i)\n",
        "\n"
      ]
    },
    {
      "cell_type": "code",
      "source": [
        "def es_par(g):\n",
        "    return g % 2 == 0\n",
        "\n",
        "# La funcion identifica si los numeros de la lista son pares y con el for los imprime en formato de lista\n",
        "pares = list(filter(es_par, e))\n",
        "for i in pares:\n",
        "    print(i)"
      ],
      "metadata": {
        "colab": {
          "base_uri": "https://localhost:8080/"
        },
        "id": "q8VFvzgpIQcx",
        "outputId": "d9239941-086d-4cef-c27a-5fe0d56260d4"
      },
      "execution_count": 7,
      "outputs": [
        {
          "output_type": "stream",
          "name": "stdout",
          "text": [
            "2\n",
            "4\n"
          ]
        }
      ]
    },
    {
      "cell_type": "code",
      "source": [
        "e = tuple(filter(lambda x: x % 2 == 0, [1, 5, 3, 2, 6]))\n",
        "resultado = tuple(map(lambda x: x / 2, e))\n",
        "print(resultado)"
      ],
      "metadata": {
        "colab": {
          "base_uri": "https://localhost:8080/"
        },
        "id": "yP9htPUiIfCp",
        "outputId": "58738e29-117c-422a-ee80-8779d0332a6b"
      },
      "execution_count": 8,
      "outputs": [
        {
          "output_type": "stream",
          "name": "stdout",
          "text": [
            "(1.0, 3.0)\n"
          ]
        }
      ]
    }
  ]
}