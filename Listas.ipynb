{
  "cells": [
    {
      "cell_type": "markdown",
      "metadata": {
        "id": "view-in-github",
        "colab_type": "text"
      },
      "source": [
        "<a href=\"https://colab.research.google.com/github/MarianaObandoGutierrez/Programacion-Aplicada-GM/blob/main/Listas.ipynb\" target=\"_parent\"><img src=\"https://colab.research.google.com/assets/colab-badge.svg\" alt=\"Open In Colab\"/></a>"
      ]
    },
    {
      "cell_type": "code",
      "execution_count": null,
      "metadata": {
        "colab": {
          "base_uri": "https://localhost:8080/"
        },
        "id": "FQbBgKDAok__",
        "outputId": "d052ac75-db4c-48b0-eccb-f1b95874e929"
      },
      "outputs": [
        {
          "name": "stdout",
          "output_type": "stream",
          "text": [
            "[1, 2, 4, 2, 6]\n"
          ]
        }
      ],
      "source": [
        "def eliminar_cero(lista, elemento):\n",
        "    return list(filter(lambda x: x != elemento, lista))\n",
        "\n",
        "l = [1,2,0,4,2,6]\n",
        "numero = 0\n",
        "#Este codigo elimina los ceros de la lista asignando una nueva lista r\n",
        "r = eliminar_cero(l, numero)\n",
        "m=list((r))\n",
        "print(m)"
      ]
    },
    {
      "cell_type": "code",
      "execution_count": null,
      "metadata": {
        "colab": {
          "base_uri": "https://localhost:8080/"
        },
        "id": "Sav97UA6Jw-F",
        "outputId": "23b27ea3-48cb-48e9-c723-0bfb431f0732"
      },
      "outputs": [
        {
          "name": "stdout",
          "output_type": "stream",
          "text": [
            "[6, 2, 4, 2, 1]\n"
          ]
        }
      ],
      "source": [
        "def eliminar_cero(lista, elemento):\n",
        "    return list(filter(lambda x: x != elemento, lista))\n",
        "\n",
        "l = [1,2,0,4,2,6]\n",
        "numero = 0\n",
        "#Este codigo elimina los ceros y luego voltea la lista al reves\n",
        "r = eliminar_cero(l, numero)\n",
        "m=list(reversed(r))\n",
        "print(m)"
      ]
    },
    {
      "cell_type": "code",
      "execution_count": null,
      "metadata": {
        "colab": {
          "base_uri": "https://localhost:8080/"
        },
        "id": "k6pAmrlIp-f6",
        "outputId": "d40000bd-125d-4676-d035-cb0b0db427bd"
      },
      "outputs": [
        {
          "name": "stdout",
          "output_type": "stream",
          "text": [
            "[4, 3, 2, 1]\n"
          ]
        }
      ],
      "source": [
        "def eliminar_cero(lista, elemento):\n",
        "    return list(filter(lambda x: x != elemento, lista))\n",
        "\n",
        "l = [0,1,0,2,0,3,0,4]\n",
        "numero = 0\n",
        "#Se vuelve a probar el codigo anterior con otra lista\n",
        "r = eliminar_cero(l, numero)\n",
        "m=list(reversed(r))\n",
        "print(m)"
      ]
    },
    {
      "cell_type": "code",
      "execution_count": null,
      "metadata": {
        "colab": {
          "base_uri": "https://localhost:8080/"
        },
        "id": "OukeVGxRqDdD",
        "outputId": "3b928df2-afa5-494b-db29-95b3eb5b8107"
      },
      "outputs": [
        {
          "output_type": "stream",
          "name": "stdout",
          "text": [
            "[4, 3, 2, 1]\n"
          ]
        }
      ],
      "source": [
        "def eliminar_cero(lista, elemento):\n",
        "    return list(filter(lambda x: x != elemento, lista))\n",
        "\n",
        "l = [0,1,2,0,3,4,0]\n",
        "numero = 0\n",
        "#Se vuelve a probar el codigo anterior con otra lista\n",
        "r = eliminar_cero(l, numero)\n",
        "m=list(reversed(r))\n",
        "print(m)"
      ]
    }
  ],
  "metadata": {
    "colab": {
      "provenance": [],
      "include_colab_link": true
    },
    "kernelspec": {
      "display_name": "Python 3",
      "name": "python3"
    },
    "language_info": {
      "name": "python"
    }
  },
  "nbformat": 4,
  "nbformat_minor": 0
}