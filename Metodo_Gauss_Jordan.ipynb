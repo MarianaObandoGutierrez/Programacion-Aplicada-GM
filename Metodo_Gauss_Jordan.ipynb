{
  "nbformat": 4,
  "nbformat_minor": 0,
  "metadata": {
    "colab": {
      "provenance": [],
      "include_colab_link": true
    },
    "kernelspec": {
      "name": "python3",
      "display_name": "Python 3"
    },
    "language_info": {
      "name": "python"
    }
  },
  "cells": [
    {
      "cell_type": "markdown",
      "metadata": {
        "id": "view-in-github",
        "colab_type": "text"
      },
      "source": [
        "<a href=\"https://colab.research.google.com/github/MarianaObandoGutierrez/Programacion-Aplicada-GM/blob/main/Metodo_Gauss_Jordan.ipynb\" target=\"_parent\"><img src=\"https://colab.research.google.com/assets/colab-badge.svg\" alt=\"Open In Colab\"/></a>"
      ]
    },
    {
      "cell_type": "code",
      "execution_count": 7,
      "metadata": {
        "id": "oLhdG5Ls_LgC",
        "outputId": "e0b89910-63bf-4d5f-8fbc-2a7a14e44d78",
        "colab": {
          "base_uri": "https://localhost:8080/",
          "height": 99
        }
      },
      "outputs": [
        {
          "output_type": "execute_result",
          "data": {
            "text/plain": [
              "Matrix([\n",
              "[1, 2, 8],\n",
              "[5, 3, 7],\n",
              "[2, 2, 8],\n",
              "[0, 3, 7]])"
            ],
            "text/latex": "$\\displaystyle \\left[\\begin{matrix}1 & 2 & 8\\\\5 & 3 & 7\\\\2 & 2 & 8\\\\0 & 3 & 7\\end{matrix}\\right]$"
          },
          "metadata": {},
          "execution_count": 7
        }
      ],
      "source": [
        "import sympy as sp\n",
        "\n",
        "A=sp.Matrix([\n",
        "    [1,2,8],\n",
        "    [5,3,7],\n",
        "    [2,2,8],\n",
        "    [0,3,7]])\n",
        "M=A[:,:]\n",
        "M"
      ]
    },
    {
      "cell_type": "code",
      "source": [
        "import sympy as sp\n",
        "\n",
        "def formaescalon(M):\n",
        "    nfilas, ncolumnas = M.shape\n",
        "\n",
        "    for k in range(min(nfilas, ncolumnas)):\n",
        "        if M[k, k] == 0:\n",
        "            for fila_posible in range(k + 1, nfilas):\n",
        "                if M[fila_posible, k] != 0:\n",
        "                    M.row_swap(k, fila_posible)\n",
        "                    break\n",
        "        M[k, :] /= M[k, k]\n",
        "        for fila_actual in range(k + 1, nfilas):\n",
        "            M[fila_actual, :] -= M[fila_actual, k] * M[k, :]\n",
        "\n",
        "    return M\n",
        "\n",
        "escalon_M = formaescalon(M)\n",
        "M"
      ],
      "metadata": {
        "id": "iz6e4ULq_RkK",
        "outputId": "8ae14897-4b35-4eeb-c2ad-d53c82b38d9c",
        "colab": {
          "base_uri": "https://localhost:8080/",
          "height": 99
        }
      },
      "execution_count": 8,
      "outputs": [
        {
          "output_type": "execute_result",
          "data": {
            "text/plain": [
              "Matrix([\n",
              "[1, 2,    8],\n",
              "[0, 1, 33/7],\n",
              "[0, 0,    1],\n",
              "[0, 0,    0]])"
            ],
            "text/latex": "$\\displaystyle \\left[\\begin{matrix}1 & 2 & 8\\\\0 & 1 & \\frac{33}{7}\\\\0 & 0 & 1\\\\0 & 0 & 0\\end{matrix}\\right]$"
          },
          "metadata": {},
          "execution_count": 8
        }
      ]
    }
  ]
}