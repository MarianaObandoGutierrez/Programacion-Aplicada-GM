{
  "nbformat": 4,
  "nbformat_minor": 0,
  "metadata": {
    "colab": {
      "provenance": [],
      "include_colab_link": true
    },
    "kernelspec": {
      "name": "python3",
      "display_name": "Python 3"
    },
    "language_info": {
      "name": "python"
    }
  },
  "cells": [
    {
      "cell_type": "markdown",
      "metadata": {
        "id": "view-in-github",
        "colab_type": "text"
      },
      "source": [
        "<a href=\"https://colab.research.google.com/github/MarianaObandoGutierrez/Programacion-Aplicada-GM/blob/main/Adivinar%20numero.ipynb\" target=\"_parent\"><img src=\"https://colab.research.google.com/assets/colab-badge.svg\" alt=\"Open In Colab\"/></a>"
      ]
    },
    {
      "cell_type": "code",
      "execution_count": 4,
      "metadata": {
        "colab": {
          "base_uri": "https://localhost:8080/"
        },
        "id": "uXXU1xMI93ym",
        "outputId": "3661b127-d7fa-45fc-a037-e2e55377c742"
      },
      "outputs": [
        {
          "output_type": "stream",
          "name": "stdout",
          "text": [
            "Adivina un numero del 1 al 105}  18\n",
            "Ganaste\n",
            "Fin del juego\n"
          ]
        }
      ],
      "source": [
        "def EjemploCorrutina(secreto=18):\n",
        "  numero = yield 'Adivina un numero del 1 al 105}  '\n",
        "  while True:\n",
        "   if numero==secreto:\n",
        "      mensaje = \"Ganaste\"\n",
        "   else:\n",
        "      mensaje= \"Vuelve a intentar\"\n",
        "   numero= yield mensaje\n",
        "\n",
        "una_corrutina=EjemploCorrutina(18)\n",
        "pregunta= next(una_corrutina)\n",
        "while True:\n",
        "  numero=int(input(pregunta))\n",
        "  mensaje=una_corrutina.send(numero)\n",
        "  print(mensaje)\n",
        "  if mensaje=='Ganaste':\n",
        "    print(\"Fin del juego\")\n",
        "    break"
      ]
    }
  ]
}