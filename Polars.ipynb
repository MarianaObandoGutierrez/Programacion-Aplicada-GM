{
  "nbformat": 4,
  "nbformat_minor": 0,
  "metadata": {
    "colab": {
      "provenance": [],
      "include_colab_link": true
    },
    "kernelspec": {
      "name": "python3",
      "display_name": "Python 3"
    },
    "language_info": {
      "name": "python"
    }
  },
  "cells": [
    {
      "cell_type": "markdown",
      "metadata": {
        "id": "view-in-github",
        "colab_type": "text"
      },
      "source": [
        "<a href=\"https://colab.research.google.com/github/MarianaObandoGutierrez/Programacion-Aplicada-GM/blob/main/Polars.ipynb\" target=\"_parent\"><img src=\"https://colab.research.google.com/assets/colab-badge.svg\" alt=\"Open In Colab\"/></a>"
      ]
    },
    {
      "cell_type": "code",
      "source": [
        "pip install polars"
      ],
      "metadata": {
        "colab": {
          "base_uri": "https://localhost:8080/"
        },
        "id": "4e8ilP19l3DF",
        "outputId": "6528f631-5342-4756-e855-2dce033b89e5"
      },
      "execution_count": 1,
      "outputs": [
        {
          "output_type": "stream",
          "name": "stdout",
          "text": [
            "Requirement already satisfied: polars in /usr/local/lib/python3.10/dist-packages (0.17.3)\n",
            "Requirement already satisfied: typing_extensions>=4.0.1 in /usr/local/lib/python3.10/dist-packages (from polars) (4.5.0)\n"
          ]
        }
      ]
    },
    {
      "cell_type": "code",
      "execution_count": 2,
      "metadata": {
        "colab": {
          "base_uri": "https://localhost:8080/"
        },
        "id": "P2B2GjkC60YI",
        "outputId": "7b9c7510-d801-429c-ed4f-67a75109a0e8"
      },
      "outputs": [
        {
          "output_type": "stream",
          "name": "stdout",
          "text": [
            "shape: (5,)\n",
            "Series: 'a' [i64]\n",
            "[\n",
            "\t1\n",
            "\t2\n",
            "\t3\n",
            "\t4\n",
            "\t5\n",
            "]\n"
          ]
        }
      ],
      "source": [
        "import polars as pl\n",
        "\n",
        "s = pl.Series(\"a\", [1, 2, 3, 4, 5])\n",
        "print(s)"
      ]
    },
    {
      "cell_type": "code",
      "source": [
        "from datetime import datetime\n",
        "\n",
        "df = pl.DataFrame(\n",
        "    {\n",
        "\n",
        "        \"integer\": [1, 2, 3, 4, 5],\n",
        "        \"date\": [\n",
        "            datetime(2022, 1, 1),\n",
        "            datetime(2022, 1, 2),\n",
        "            datetime(2022, 1, 3),\n",
        "            datetime(2022, 1, 4),\n",
        "            datetime(2022, 1, 5),\n",
        "        ],\n",
        "        \"float\": [4.0, 5.0, 6.0, 7.0, 8.0],\n",
        "        \"int\": [0, 1, 2, 3, 4],\n",
        "    }\n",
        ")\n",
        "\n",
        "print(df)"
      ],
      "metadata": {
        "colab": {
          "base_uri": "https://localhost:8080/"
        },
        "id": "cf95gbxAF03R",
        "outputId": "f397b41d-edfe-42e2-9a02-27c45ade6386"
      },
      "execution_count": 3,
      "outputs": [
        {
          "output_type": "stream",
          "name": "stdout",
          "text": [
            "shape: (5, 4)\n",
            "┌─────────┬─────────────────────┬───────┬─────┐\n",
            "│ integer ┆ date                ┆ float ┆ int │\n",
            "│ ---     ┆ ---                 ┆ ---   ┆ --- │\n",
            "│ i64     ┆ datetime[μs]        ┆ f64   ┆ i64 │\n",
            "╞═════════╪═════════════════════╪═══════╪═════╡\n",
            "│ 1       ┆ 2022-01-01 00:00:00 ┆ 4.0   ┆ 0   │\n",
            "│ 2       ┆ 2022-01-02 00:00:00 ┆ 5.0   ┆ 1   │\n",
            "│ 3       ┆ 2022-01-03 00:00:00 ┆ 6.0   ┆ 2   │\n",
            "│ 4       ┆ 2022-01-04 00:00:00 ┆ 7.0   ┆ 3   │\n",
            "│ 5       ┆ 2022-01-05 00:00:00 ┆ 8.0   ┆ 4   │\n",
            "└─────────┴─────────────────────┴───────┴─────┘\n"
          ]
        }
      ]
    },
    {
      "cell_type": "code",
      "source": [
        "import polars as pl\n",
        "import numpy as np\n",
        "from datetime import datetime\n",
        "\n",
        "df = pl.DataFrame(\n",
        "    {\n",
        "        \"nrs\": [1, 2, 3, None, 5],\n",
        "        \"names\": [\"foo\", \"ham\", \"spam\", \"egg\", None],\n",
        "        \"random\": np.random.rand(5),\n",
        "        \"groups\": [\"A\", \"A\", \"B\", \"C\", \"B\"],\n",
        "  }\n",
        ")\n",
        "\n",
        "print(df)\n",
        "\n",
        "\n",
        "\n",
        "\n"
      ],
      "metadata": {
        "colab": {
          "base_uri": "https://localhost:8080/"
        },
        "id": "IRRjwn3fHwU2",
        "outputId": "2fdf919d-0819-471a-da31-2d91d696bf7b"
      },
      "execution_count": 4,
      "outputs": [
        {
          "output_type": "stream",
          "name": "stdout",
          "text": [
            "shape: (5, 4)\n",
            "┌──────┬───────┬──────────┬────────┐\n",
            "│ nrs  ┆ names ┆ random   ┆ groups │\n",
            "│ ---  ┆ ---   ┆ ---      ┆ ---    │\n",
            "│ i64  ┆ str   ┆ f64      ┆ str    │\n",
            "╞══════╪═══════╪══════════╪════════╡\n",
            "│ 1    ┆ foo   ┆ 0.497349 ┆ A      │\n",
            "│ 2    ┆ ham   ┆ 0.960597 ┆ A      │\n",
            "│ 3    ┆ spam  ┆ 0.695606 ┆ B      │\n",
            "│ null ┆ egg   ┆ 0.939319 ┆ C      │\n",
            "│ 5    ┆ null  ┆ 0.433829 ┆ B      │\n",
            "└──────┴───────┴──────────┴────────┘\n"
          ]
        }
      ]
    },
    {
      "cell_type": "code",
      "source": [
        "out = df.select(\n",
        "  pl.sum(\"nrs\"),\n",
        "  pl.col(\"names\").sort(),\n",
        "  pl.col(\"random\"),\n",
        "  pl.col(\"names\").first().alias(\"first name\"),\n",
        "  (pl.mean(\"nrs\") * 10).alias(\"10xnrs\"),\n",
        ")\n",
        "\n",
        "\n",
        "\n",
        "print(out)"
      ],
      "metadata": {
        "colab": {
          "base_uri": "https://localhost:8080/"
        },
        "id": "2Q1-hDYZhSaS",
        "outputId": "afa047a8-a000-4692-a586-ae147e09f584"
      },
      "execution_count": null,
      "outputs": [
        {
          "output_type": "stream",
          "name": "stdout",
          "text": [
            "shape: (5, 5)\n",
            "┌─────┬───────┬──────────┬────────────┬────────┐\n",
            "│ nrs ┆ names ┆ random   ┆ first name ┆ 10xnrs │\n",
            "│ --- ┆ ---   ┆ ---      ┆ ---        ┆ ---    │\n",
            "│ i64 ┆ str   ┆ f64      ┆ str        ┆ f64    │\n",
            "╞═════╪═══════╪══════════╪════════════╪════════╡\n",
            "│ 11  ┆ null  ┆ 0.204473 ┆ foo        ┆ 27.5   │\n",
            "│ 11  ┆ egg   ┆ 0.557699 ┆ foo        ┆ 27.5   │\n",
            "│ 11  ┆ foo   ┆ 0.17391  ┆ foo        ┆ 27.5   │\n",
            "│ 11  ┆ ham   ┆ 0.898613 ┆ foo        ┆ 27.5   │\n",
            "│ 11  ┆ spam  ┆ 0.782219 ┆ foo        ┆ 27.5   │\n",
            "└─────┴───────┴──────────┴────────────┴────────┘\n"
          ]
        }
      ]
    },
    {
      "cell_type": "code",
      "source": [
        "df = df.with_columns(\n",
        "    pl.sum(\"nrs\").alias(\"nrs_sum\"),\n",
        "    pl.col(\"random\").count().alias(\"count\"),\n",
        ")\n",
        "print(df)"
      ],
      "metadata": {
        "colab": {
          "base_uri": "https://localhost:8080/"
        },
        "id": "jGxw0_CinDrm",
        "outputId": "ab5be031-d844-470a-c2bd-25cf11d13552"
      },
      "execution_count": 5,
      "outputs": [
        {
          "output_type": "stream",
          "name": "stdout",
          "text": [
            "shape: (5, 6)\n",
            "┌──────┬───────┬──────────┬────────┬─────────┬───────┐\n",
            "│ nrs  ┆ names ┆ random   ┆ groups ┆ nrs_sum ┆ count │\n",
            "│ ---  ┆ ---   ┆ ---      ┆ ---    ┆ ---     ┆ ---   │\n",
            "│ i64  ┆ str   ┆ f64      ┆ str    ┆ i64     ┆ u32   │\n",
            "╞══════╪═══════╪══════════╪════════╪═════════╪═══════╡\n",
            "│ 1    ┆ foo   ┆ 0.497349 ┆ A      ┆ 11      ┆ 5     │\n",
            "│ 2    ┆ ham   ┆ 0.960597 ┆ A      ┆ 11      ┆ 5     │\n",
            "│ 3    ┆ spam  ┆ 0.695606 ┆ B      ┆ 11      ┆ 5     │\n",
            "│ null ┆ egg   ┆ 0.939319 ┆ C      ┆ 11      ┆ 5     │\n",
            "│ 5    ┆ null  ┆ 0.433829 ┆ B      ┆ 11      ┆ 5     │\n",
            "└──────┴───────┴──────────┴────────┴─────────┴───────┘\n"
          ]
        }
      ]
    },
    {
      "cell_type": "code",
      "source": [
        "out = df.groupby(\"groups\").agg(\n",
        "    pl.sum(\"nrs\"),  # sum nrs by groups\n",
        "    pl.col(\"random\").count().alias(\"count\"),  # count group members\n",
        "    # sum random where name != null\n",
        "    pl.col(\"random\").filter(pl.col(\"names\").is_not_null()).sum().suffix(\"_sum\"),\n",
        "    pl.col(\"names\").reverse().alias(\"reversed names\"),\n",
        ")\n",
        "print(out)"
      ],
      "metadata": {
        "colab": {
          "base_uri": "https://localhost:8080/"
        },
        "id": "rLZ3PQBanZhT",
        "outputId": "a8f8bd47-21f8-458a-c574-5e74846f9399"
      },
      "execution_count": 6,
      "outputs": [
        {
          "output_type": "stream",
          "name": "stdout",
          "text": [
            "shape: (3, 5)\n",
            "┌────────┬──────┬───────┬────────────┬────────────────┐\n",
            "│ groups ┆ nrs  ┆ count ┆ random_sum ┆ reversed names │\n",
            "│ ---    ┆ ---  ┆ ---   ┆ ---        ┆ ---            │\n",
            "│ str    ┆ i64  ┆ u32   ┆ f64        ┆ list[str]      │\n",
            "╞════════╪══════╪═══════╪════════════╪════════════════╡\n",
            "│ A      ┆ 3    ┆ 2     ┆ 1.457946   ┆ [\"ham\", \"foo\"] │\n",
            "│ C      ┆ null ┆ 1     ┆ 0.939319   ┆ [\"egg\"]        │\n",
            "│ B      ┆ 8    ┆ 2     ┆ 0.695606   ┆ [null, \"spam\"] │\n",
            "└────────┴──────┴───────┴────────────┴────────────────┘\n"
          ]
        }
      ]
    },
    {
      "cell_type": "code",
      "source": [
        "df = pl.DataFrame(\n",
        "    {\n",
        "        \"nrs\": [1, 2, 3, None, 5],\n",
        "        \"names\": [\"foo\", \"ham\", \"spam\", \"egg\", None],\n",
        "        \"random\": np.random.rand(5),\n",
        "        \"groups\": [\"A\", \"A\", \"B\", \"C\", \"B\"],\n",
        "        \"Animal\":[\"Dog\",\"Cat\",\"Bird\", \"Shark\",None ]\n",
        "    }\n",
        ")\n",
        "print(df)"
      ],
      "metadata": {
        "colab": {
          "base_uri": "https://localhost:8080/"
        },
        "id": "30zr9DOAneEv",
        "outputId": "f28e4f66-695b-49bd-e065-222567ed9870"
      },
      "execution_count": 11,
      "outputs": [
        {
          "output_type": "stream",
          "name": "stdout",
          "text": [
            "shape: (5, 5)\n",
            "┌──────┬───────┬──────────┬────────┬────────┐\n",
            "│ nrs  ┆ names ┆ random   ┆ groups ┆ Animal │\n",
            "│ ---  ┆ ---   ┆ ---      ┆ ---    ┆ ---    │\n",
            "│ i64  ┆ str   ┆ f64      ┆ str    ┆ str    │\n",
            "╞══════╪═══════╪══════════╪════════╪════════╡\n",
            "│ 1    ┆ foo   ┆ 0.920181 ┆ A      ┆ Dog    │\n",
            "│ 2    ┆ ham   ┆ 0.441668 ┆ A      ┆ Cat    │\n",
            "│ 3    ┆ spam  ┆ 0.975542 ┆ B      ┆ Bird   │\n",
            "│ null ┆ egg   ┆ 0.545135 ┆ C      ┆ Shark  │\n",
            "│ 5    ┆ null  ┆ 0.072005 ┆ B      ┆ null   │\n",
            "└──────┴───────┴──────────┴────────┴────────┘\n"
          ]
        }
      ]
    },
    {
      "cell_type": "code",
      "source": [
        "df = df.with_columns(\n",
        "    pl.sum(5).alias(\"random_sum\"),\n",
        ")\n",
        "print(df)"
      ],
      "metadata": {
        "colab": {
          "base_uri": "https://localhost:8080/"
        },
        "id": "vOh-8JWJniX7",
        "outputId": "40caf80a-9ab1-430b-83eb-e07ff38c5065"
      },
      "execution_count": 9,
      "outputs": [
        {
          "output_type": "stream",
          "name": "stdout",
          "text": [
            "shape: (5, 6)\n",
            "┌──────┬───────┬──────────┬────────┬────────┬────────────┐\n",
            "│ nrs  ┆ names ┆ random   ┆ groups ┆ Animal ┆ random_sum │\n",
            "│ ---  ┆ ---   ┆ ---      ┆ ---    ┆ ---    ┆ ---        │\n",
            "│ i64  ┆ str   ┆ f64      ┆ str    ┆ str    ┆ i64        │\n",
            "╞══════╪═══════╪══════════╪════════╪════════╪════════════╡\n",
            "│ 1    ┆ foo   ┆ 0.092774 ┆ A      ┆ Dog    ┆ 5          │\n",
            "│ 2    ┆ ham   ┆ 0.194474 ┆ A      ┆ Cat    ┆ 5          │\n",
            "│ 3    ┆ spam  ┆ 0.004224 ┆ B      ┆ Bird   ┆ 5          │\n",
            "│ null ┆ egg   ┆ 0.073535 ┆ C      ┆ Shark  ┆ 5          │\n",
            "│ 5    ┆ null  ┆ 0.068144 ┆ B      ┆ null   ┆ 5          │\n",
            "└──────┴───────┴──────────┴────────┴────────┴────────────┘\n"
          ]
        }
      ]
    }
  ]
}