{
  "nbformat": 4,
  "nbformat_minor": 0,
  "metadata": {
    "colab": {
      "provenance": [],
      "include_colab_link": true
    },
    "kernelspec": {
      "name": "python3",
      "display_name": "Python 3"
    },
    "language_info": {
      "name": "python"
    }
  },
  "cells": [
    {
      "cell_type": "markdown",
      "metadata": {
        "id": "view-in-github",
        "colab_type": "text"
      },
      "source": [
        "<a href=\"https://colab.research.google.com/github/MarianaObandoGutierrez/Programacion-Aplicada-GM/blob/main/Metodos_listas.ipynb\" target=\"_parent\"><img src=\"https://colab.research.google.com/assets/colab-badge.svg\" alt=\"Open In Colab\"/></a>"
      ]
    },
    {
      "cell_type": "markdown",
      "source": [
        "Reorganice la lista"
      ],
      "metadata": {
        "id": "1ufSEJQg8Mly"
      }
    },
    {
      "cell_type": "code",
      "source": [
        "def reorganizar(l):\n",
        "  n=len(l)\n",
        "  if n % 2 == 1:\n",
        "    m=n//2\n",
        "    r=l[m+1:]+l[m:m+1]+l[:m]\n",
        "  else:\n",
        "    m=n//2\n",
        "    r=l[m:]+l[:m]\n",
        "  return r\n",
        "\n",
        "g=[1, 4, 8, 6, 3]\n",
        "\n",
        "x = reorganizar(g)\n",
        "print(x)\n"
      ],
      "metadata": {
        "colab": {
          "base_uri": "https://localhost:8080/"
        },
        "id": "OGURup-a8PWm",
        "outputId": "2eacebc8-8099-4d75-b8f2-c9feae755200"
      },
      "execution_count": 1,
      "outputs": [
        {
          "output_type": "stream",
          "name": "stdout",
          "text": [
            "[6, 3, 8, 1, 4]\n"
          ]
        }
      ]
    },
    {
      "cell_type": "code",
      "source": [
        "def reorganizar(l):\n",
        "  n=len(l)\n",
        "  if n % 2 == 1:\n",
        "    m=n//2\n",
        "    r=l[m+1:]+l[m:m+1]+l[:m]\n",
        "  else:\n",
        "    m=n//2\n",
        "    r=l[m:]+l[:m]\n",
        "  return r\n",
        "\n",
        "g=[4, 2, 6]\n",
        "\n",
        "x = reorganizar(g)\n",
        "print(x)"
      ],
      "metadata": {
        "colab": {
          "base_uri": "https://localhost:8080/"
        },
        "id": "sUZUjN7F8ssE",
        "outputId": "3bc31d73-5603-4b2f-9d8c-c6ff83c7efc8"
      },
      "execution_count": 2,
      "outputs": [
        {
          "output_type": "stream",
          "name": "stdout",
          "text": [
            "[6, 2, 4]\n"
          ]
        }
      ]
    },
    {
      "cell_type": "code",
      "source": [
        "def reorganizar(l):\n",
        "  n=len(l)\n",
        "  if n % 2 == 1:\n",
        "    m=n//2\n",
        "    r=l[m+1:]+l[m:m+1]+l[:m]\n",
        "  else:\n",
        "    m=n//2\n",
        "    r=l[m:]+l[:m]\n",
        "  return r\n",
        "\n",
        "g=[1, 2, 3, 6]\n",
        "\n",
        "x = reorganizar(g)\n",
        "print(x)"
      ],
      "metadata": {
        "colab": {
          "base_uri": "https://localhost:8080/"
        },
        "id": "bC7abCkK9Hh2",
        "outputId": "55bd266e-0b70-48c3-871b-c80e33e02f57"
      },
      "execution_count": 3,
      "outputs": [
        {
          "output_type": "stream",
          "name": "stdout",
          "text": [
            "[3, 6, 1, 2]\n"
          ]
        }
      ]
    },
    {
      "cell_type": "code",
      "source": [
        "def reorganizar(l):\n",
        "  n=len(l)\n",
        "  if n % 2 == 1:\n",
        "    m=n//2\n",
        "    r=l[m+1:]+l[m:m+1]+l[:m]\n",
        "  else:\n",
        "    m=n//2\n",
        "    r=l[m:]+l[:m]\n",
        "  return r\n",
        "\n",
        "g=[1, 5]\n",
        "\n",
        "x = reorganizar(g)\n",
        "print(x)"
      ],
      "metadata": {
        "colab": {
          "base_uri": "https://localhost:8080/"
        },
        "id": "lmudbcS29MRy",
        "outputId": "75313c2c-a59d-4f63-c2e7-ff993cecb665"
      },
      "execution_count": 4,
      "outputs": [
        {
          "output_type": "stream",
          "name": "stdout",
          "text": [
            "[5, 1]\n"
          ]
        }
      ]
    },
    {
      "cell_type": "markdown",
      "source": [
        "Organice los numeros de el medio"
      ],
      "metadata": {
        "id": "6Cy7tGJJ9Ojg"
      }
    },
    {
      "cell_type": "code",
      "source": [
        "def reordenar_lista(lista):\n",
        "\n",
        "    cambiar_lista = lista[1:-1][::-1]\n",
        "    return [lista[0]] + cambiar_lista + [lista[-1]]\n",
        "\n",
        "g = [1, 2, 3, 4, 5, 6]\n",
        "\n",
        "r = reordenar_lista(g)\n",
        "print(r)\n"
      ],
      "metadata": {
        "colab": {
          "base_uri": "https://localhost:8080/"
        },
        "id": "sdHWMGda9ix0",
        "outputId": "844197b9-3400-40f6-8494-96bf6015c3eb"
      },
      "execution_count": 5,
      "outputs": [
        {
          "output_type": "stream",
          "name": "stdout",
          "text": [
            "[1, 5, 4, 3, 2, 6]\n"
          ]
        }
      ]
    },
    {
      "cell_type": "code",
      "source": [
        "def reordenar_lista(lista):\n",
        "\n",
        "    cambiar_lista = lista[1:-1][::-1]\n",
        "    return [lista[0]] + cambiar_lista + [lista[-1]]\n",
        "\n",
        "g = [5, 1, 8, 6, 2]\n",
        "\n",
        "r = reordenar_lista(g)\n",
        "print(r)"
      ],
      "metadata": {
        "colab": {
          "base_uri": "https://localhost:8080/"
        },
        "id": "LfPSFAbw9Tnd",
        "outputId": "ea50271f-cdc8-4e5d-dccc-14774e051499"
      },
      "execution_count": 6,
      "outputs": [
        {
          "output_type": "stream",
          "name": "stdout",
          "text": [
            "[5, 6, 8, 1, 2]\n"
          ]
        }
      ]
    },
    {
      "cell_type": "code",
      "source": [
        "\n",
        "def reordenar_lista(lista):\n",
        "\n",
        "    cambiar_lista = lista[1:-1][::-1]\n",
        "    return [lista[0]] + cambiar_lista + [lista[-1]]\n",
        "\n",
        "g = [1, 2, 6, 4]\n",
        "\n",
        "r = reordenar_lista(g)\n",
        "print(r)"
      ],
      "metadata": {
        "colab": {
          "base_uri": "https://localhost:8080/"
        },
        "id": "N4fT_9NN9nKB",
        "outputId": "20ff51d3-4877-413f-8fab-15d92f8c2687"
      },
      "execution_count": 7,
      "outputs": [
        {
          "output_type": "stream",
          "name": "stdout",
          "text": [
            "[1, 6, 2, 4]\n"
          ]
        }
      ]
    },
    {
      "cell_type": "code",
      "source": [
        "def reordenar_lista(lista):\n",
        "\n",
        "    cambiar_lista = lista[1:-1][::-1]\n",
        "    return [lista[0]] + cambiar_lista + [lista[-1]]\n",
        "\n",
        "g = [1, 2, 3]\n",
        "\n",
        "r = reordenar_lista(g)\n",
        "print(r)"
      ],
      "metadata": {
        "colab": {
          "base_uri": "https://localhost:8080/"
        },
        "id": "L43Qf_Et9r-l",
        "outputId": "937d63b7-e6a8-4fb2-aa86-32a2dda473ef"
      },
      "execution_count": 8,
      "outputs": [
        {
          "output_type": "stream",
          "name": "stdout",
          "text": [
            "[1, 2, 3]\n"
          ]
        }
      ]
    },
    {
      "cell_type": "code",
      "source": [
        "def reordenar_lista(lista):\n",
        "\n",
        "    cambiar_lista = lista[1:-1][::-1]\n",
        "    return [lista[0]] + cambiar_lista + [lista[-1]]\n",
        "\n",
        "g = [1, 2]\n",
        "\n",
        "r = reordenar_lista(g)\n",
        "print(r)"
      ],
      "metadata": {
        "colab": {
          "base_uri": "https://localhost:8080/"
        },
        "id": "DFRSF-HS9uwr",
        "outputId": "eddf41aa-7fc4-4531-c97b-11a5083b142b"
      },
      "execution_count": 9,
      "outputs": [
        {
          "output_type": "stream",
          "name": "stdout",
          "text": [
            "[1, 2]\n"
          ]
        }
      ]
    }
  ]
}