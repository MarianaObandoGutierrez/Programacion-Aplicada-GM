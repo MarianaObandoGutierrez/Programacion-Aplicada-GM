{
  "nbformat": 4,
  "nbformat_minor": 0,
  "metadata": {
    "colab": {
      "provenance": [],
      "include_colab_link": true
    },
    "kernelspec": {
      "name": "python3",
      "display_name": "Python 3"
    },
    "language_info": {
      "name": "python"
    }
  },
  "cells": [
    {
      "cell_type": "markdown",
      "metadata": {
        "id": "view-in-github",
        "colab_type": "text"
      },
      "source": [
        "<a href=\"https://colab.research.google.com/github/MarianaObandoGutierrez/Programacion-Aplicada-GM/blob/main/Quiz_2.ipynb\" target=\"_parent\"><img src=\"https://colab.research.google.com/assets/colab-badge.svg\" alt=\"Open In Colab\"/></a>"
      ]
    },
    {
      "cell_type": "markdown",
      "source": [
        "Realice una función que dado un texto como parametro retorna un texto separado con comas e imprimirlo como una lista de latéx\n"
      ],
      "metadata": {
        "id": "108AdtLtNL--"
      }
    },
    {
      "cell_type": "code",
      "source": [
        "txt = \"manzanas, peras, plátanos, uvas\"\n",
        "def texto_a_lista_latex(texto):\n",
        "    # Separa el texto por comas y eliminar espacios en blanco adicionales\n",
        "    elementos = [elemento.strip() for elemento in texto.split(',')]\n",
        "\n",
        "    # Construir la representación LaTeX de la lista\n",
        "    lista_latex = '\\n'.join([r'\\item ' + elemento for elemento in elementos])\n",
        "\n",
        "    return lista_latex\n",
        "\n",
        "# Salida\n",
        "\n",
        "resultado_latex = texto_a_lista_latex(txt)\n",
        "print('\\ begin {itemize}')\n",
        "print(resultado_latex)\n",
        "print(\"\\end {itemize}\")\n",
        "\n"
      ],
      "metadata": {
        "colab": {
          "base_uri": "https://localhost:8080/"
        },
        "id": "MhWug6zWewl5",
        "outputId": "447b0faf-d745-486e-ada1-6d38791e544c"
      },
      "execution_count": 35,
      "outputs": [
        {
          "output_type": "stream",
          "name": "stdout",
          "text": [
            "\\ begin {itemize}\n",
            "\\item manzanas\n",
            "\\item peras\n",
            "\\item plátanos\n",
            "\\item uvas\n",
            "\\end {itemize}\n"
          ]
        }
      ]
    }
  ]
}