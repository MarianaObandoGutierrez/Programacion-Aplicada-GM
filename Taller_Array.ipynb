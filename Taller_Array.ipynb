{
  "nbformat": 4,
  "nbformat_minor": 0,
  "metadata": {
    "colab": {
      "provenance": [],
      "include_colab_link": true
    },
    "kernelspec": {
      "name": "python3",
      "display_name": "Python 3"
    },
    "language_info": {
      "name": "python"
    }
  },
  "cells": [
    {
      "cell_type": "markdown",
      "metadata": {
        "id": "view-in-github",
        "colab_type": "text"
      },
      "source": [
        "<a href=\"https://colab.research.google.com/github/MarianaObandoGutierrez/Programacion-Aplicada-GM/blob/main/Taller_Array.ipynb\" target=\"_parent\"><img src=\"https://colab.research.google.com/assets/colab-badge.svg\" alt=\"Open In Colab\"/></a>"
      ]
    },
    {
      "cell_type": "code",
      "execution_count": 34,
      "metadata": {
        "id": "Vv2nRucI8EVn",
        "colab": {
          "base_uri": "https://localhost:8080/"
        },
        "outputId": "19052de1-10c5-4036-d078-00fcf2f8e91b"
      },
      "outputs": [
        {
          "output_type": "execute_result",
          "data": {
            "text/plain": [
              "(array('f', [1.0, 2.0, 3.0]), array('f', [4.0, 2.0, 3.0]))"
            ]
          },
          "metadata": {},
          "execution_count": 34
        }
      ],
      "source": [
        "from array import array\n",
        "lista_1= [1,2,3]\n",
        "lista_2= [4,2,3]\n",
        "array1 = array(\"f\",lista_1)\n",
        "array2 = array(\"f\", lista_2)\n",
        "array1,array2"
      ]
    },
    {
      "cell_type": "code",
      "source": [
        "#PUNTO A\n",
        "#1.Suma de arreglos\n",
        "if len(array1) == len(array2):\n",
        "  suma_de_arreglos= array(\"f\",[])\n",
        "  for i in range(len(array1)):\n",
        "    suma_de_arreglos.append(array1[i] + array2[i])\n",
        "  print(suma_de_arreglos)\n",
        "else:\n",
        "  print(\"Los arrays no tienen la misma cantidad de elementos, por lo tanto, no se pueden sumar\")"
      ],
      "metadata": {
        "colab": {
          "base_uri": "https://localhost:8080/"
        },
        "id": "Z17X4zavQbIr",
        "outputId": "a9036b3f-9958-4f0d-b4d6-4f0e1c59aa9a"
      },
      "execution_count": 35,
      "outputs": [
        {
          "output_type": "stream",
          "name": "stdout",
          "text": [
            "array('f', [5.0, 4.0, 6.0])\n"
          ]
        }
      ]
    },
    {
      "cell_type": "code",
      "source": [
        "#Unir los arreglos para hacer el arreglo de arreglos\n",
        "A = array(\"f\",array1+array2)\n",
        "B = array (\"f\", array2+array1)\n",
        "A,B"
      ],
      "metadata": {
        "colab": {
          "base_uri": "https://localhost:8080/"
        },
        "id": "cZXBSU8hTtMS",
        "outputId": "0444ebce-d07b-46f1-9849-3138fc052be7"
      },
      "execution_count": 47,
      "outputs": [
        {
          "output_type": "execute_result",
          "data": {
            "text/plain": [
              "(array('f', [1.0, 2.0, 3.0, 4.0, 2.0, 3.0]),\n",
              " array('f', [4.0, 2.0, 3.0, 1.0, 2.0, 3.0]))"
            ]
          },
          "metadata": {},
          "execution_count": 47
        }
      ]
    },
    {
      "cell_type": "code",
      "source": [
        "#2.Suma de arreglo de arreglos\n",
        "if len(A) == len(B):\n",
        "  suma_de_arreglos= array(\"f\",[])\n",
        "  for i in range(len(A)):\n",
        "    suma_de_arreglos.append(A[i] + B[i])\n",
        "  print(suma_de_arreglos)\n",
        "else:\n",
        "  print(\"Los arrays no tienen la misma cantidad de elementos, por lo tanto, no se pueden sumar\")"
      ],
      "metadata": {
        "colab": {
          "base_uri": "https://localhost:8080/"
        },
        "id": "kd3FEY6WUywf",
        "outputId": "c0a012a1-8b2f-40e4-d147-c7275c036c06"
      },
      "execution_count": 48,
      "outputs": [
        {
          "output_type": "stream",
          "name": "stdout",
          "text": [
            "array('f', [5.0, 4.0, 6.0, 5.0, 4.0, 6.0])\n"
          ]
        }
      ]
    },
    {
      "cell_type": "code",
      "source": [
        "#PUNTO B\n",
        "#1.Producto punto de arreglo\n",
        "if len(array1) == len(array2):\n",
        "    suma_de_arreglos = []\n",
        "    pp = 0\n",
        "    for i in range(len(array1)):\n",
        "        suma_de_arreglos.append(array1[i] * array2[i])\n",
        "        pp += suma_de_arreglos[i]  # Suma individual de elementos\n",
        "\n",
        "    print(pp)\n",
        "else:\n",
        "    print(\"Los arrays no tienen la misma cantidad de elementos, por lo tanto, no se pueden sumar\")"
      ],
      "metadata": {
        "colab": {
          "base_uri": "https://localhost:8080/"
        },
        "id": "YFyKyJMvVgVd",
        "outputId": "11b9423b-c84d-4aa1-ef20-34bb4fa43dea"
      },
      "execution_count": 65,
      "outputs": [
        {
          "output_type": "stream",
          "name": "stdout",
          "text": [
            "17.0\n"
          ]
        }
      ]
    },
    {
      "cell_type": "code",
      "source": [
        "#2.Producto punto de arreglo por constante\n",
        "    #Prueba 1 con array1, constante = 3\n",
        "suma_de_arreglos = []\n",
        "constante=3\n",
        "pp = 0\n",
        "for i in range(len(array1)):\n",
        "    suma_de_arreglos.append(array1[i] * constante)\n",
        "    pp += suma_de_arreglos[i]  # Suma individual de elementos\n",
        "print(pp)"
      ],
      "metadata": {
        "colab": {
          "base_uri": "https://localhost:8080/"
        },
        "id": "kL2lJHUNX163",
        "outputId": "f1fd542a-136c-4dec-8737-685608c02138"
      },
      "execution_count": 74,
      "outputs": [
        {
          "output_type": "stream",
          "name": "stdout",
          "text": [
            "18.0\n"
          ]
        }
      ]
    },
    {
      "cell_type": "code",
      "source": [
        "#3.Producto punto de arreglo de arreglos por constante\n",
        "#Tomando A de la concatenacion anterior de los dos arrays, para hacer un arreglo de dos arreglos\n",
        "suma_de_arreglos = []\n",
        "constante=3\n",
        "pp = 0\n",
        "\n",
        "\n",
        "for i in range(len(A)):\n",
        "    suma_de_arreglos.append(A[i] * constante)\n",
        "    pp += suma_de_arreglos[i]  # Suma individual de elementos\n",
        "print(pp)"
      ],
      "metadata": {
        "colab": {
          "base_uri": "https://localhost:8080/"
        },
        "id": "RH6J4qaTZXv9",
        "outputId": "70b40633-82a6-4ac3-dd74-53bc034e94cc"
      },
      "execution_count": 77,
      "outputs": [
        {
          "output_type": "stream",
          "name": "stdout",
          "text": [
            "45.0\n"
          ]
        }
      ]
    }
  ]
}